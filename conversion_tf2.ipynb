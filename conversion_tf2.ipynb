{
 "metadata": {
  "language_info": {
   "codemirror_mode": {
    "name": "ipython",
    "version": 3
   },
   "file_extension": ".py",
   "mimetype": "text/x-python",
   "name": "python",
   "nbconvert_exporter": "python",
   "pygments_lexer": "ipython3",
   "version": "3.7.7-final"
  },
  "orig_nbformat": 2,
  "kernelspec": {
   "name": "python37764bittfganconda947fa4cdb3bf4ea3a16364a3cd7c6b79",
   "display_name": "Python 3.7.7 64-bit ('tf-gan': conda)"
  }
 },
 "nbformat": 4,
 "nbformat_minor": 2,
 "cells": [
  {
   "cell_type": "code",
   "execution_count": 1,
   "metadata": {},
   "outputs": [],
   "source": [
    "import tensorflow as tf\n",
    "import pretrained_networks\n",
    "import os"
   ]
  },
  {
   "cell_type": "code",
   "execution_count": 2,
   "metadata": {},
   "outputs": [],
   "source": [
    "network_pkl = '../stylegan2-tf-2.x/official-pretrained/stylegan2-ffhq-config-f.pkl'\n",
    "assert os.path.isfile(network_pkl)"
   ]
  },
  {
   "cell_type": "code",
   "execution_count": 3,
   "metadata": {
    "tags": []
   },
   "outputs": [
    {
     "output_type": "stream",
     "name": "stdout",
     "text": "Loading networks from \"../stylegan2-tf-2.x/official-pretrained/stylegan2-ffhq-config-f.pkl\"...\nSetting up TensorFlow plugin \"fused_bias_act.cu\":Preprocessing...Loading...Done.\nSetting up TensorFlow plugin \"upfirdn_2d.cu\":Preprocessing...Loading...Done.\n\n"
    }
   ],
   "source": [
    "print('Loading networks from \"%s\"...' % network_pkl)\n",
    "_G, _D, Gs = pretrained_networks.load_networks(network_pkl)\n",
    "print()"
   ]
  },
  {
   "cell_type": "code",
   "execution_count": 4,
   "metadata": {
    "tags": []
   },
   "outputs": [
    {
     "output_type": "stream",
     "name": "stdout",
     "text": "===_G===\n\nG                               Params    OutputShape          WeightShape     \n---                             ---       ---                  ---             \nlatents_in                      -         (?, 512)             -               \nlabels_in                       -         (?, 0)               -               \nlod                             -         ()                   -               \ndlatent_avg                     -         (512,)               -               \nG_mapping/latents_in            -         (?, 512)             -               \nG_mapping/labels_in             -         (?, 0)               -               \nG_mapping/Normalize             -         (?, 512)             -               \nG_mapping/Dense0                262656    (?, 512)             (512, 512)      \nG_mapping/Dense1                262656    (?, 512)             (512, 512)      \nG_mapping/Dense2                262656    (?, 512)             (512, 512)      \nG_mapping/Dense3                262656    (?, 512)             (512, 512)      \nG_mapping/Dense4                262656    (?, 512)             (512, 512)      \nG_mapping/Dense5                262656    (?, 512)             (512, 512)      \nG_mapping/Dense6                262656    (?, 512)             (512, 512)      \nG_mapping/Dense7                262656    (?, 512)             (512, 512)      \nG_mapping/Broadcast             -         (?, 18, 512)         -               \nG_mapping/dlatents_out          -         (?, 18, 512)         -               \nTruncation/Lerp                 -         (?, 18, 512)         -               \nG_synthesis/dlatents_in         -         (?, 18, 512)         -               \nG_synthesis/4x4/Const           8192      (?, 512, 4, 4)       (1, 512, 4, 4)  \nG_synthesis/4x4/Conv            2622465   (?, 512, 4, 4)       (3, 3, 512, 512)\nG_synthesis/4x4/ToRGB           264195    (?, 3, 4, 4)         (1, 1, 512, 3)  \nG_synthesis/8x8/Conv0_up        2622465   (?, 512, 8, 8)       (3, 3, 512, 512)\nG_synthesis/8x8/Conv1           2622465   (?, 512, 8, 8)       (3, 3, 512, 512)\nG_synthesis/8x8/Upsample        -         (?, 3, 8, 8)         -               \nG_synthesis/8x8/ToRGB           264195    (?, 3, 8, 8)         (1, 1, 512, 3)  \nG_synthesis/16x16/Conv0_up      2622465   (?, 512, 16, 16)     (3, 3, 512, 512)\nG_synthesis/16x16/Conv1         2622465   (?, 512, 16, 16)     (3, 3, 512, 512)\nG_synthesis/16x16/Upsample      -         (?, 3, 16, 16)       -               \nG_synthesis/16x16/ToRGB         264195    (?, 3, 16, 16)       (1, 1, 512, 3)  \nG_synthesis/32x32/Conv0_up      2622465   (?, 512, 32, 32)     (3, 3, 512, 512)\nG_synthesis/32x32/Conv1         2622465   (?, 512, 32, 32)     (3, 3, 512, 512)\nG_synthesis/32x32/Upsample      -         (?, 3, 32, 32)       -               \nG_synthesis/32x32/ToRGB         264195    (?, 3, 32, 32)       (1, 1, 512, 3)  \nG_synthesis/64x64/Conv0_up      2622465   (?, 512, 64, 64)     (3, 3, 512, 512)\nG_synthesis/64x64/Conv1         2622465   (?, 512, 64, 64)     (3, 3, 512, 512)\nG_synthesis/64x64/Upsample      -         (?, 3, 64, 64)       -               \nG_synthesis/64x64/ToRGB         264195    (?, 3, 64, 64)       (1, 1, 512, 3)  \nG_synthesis/128x128/Conv0_up    1442561   (?, 256, 128, 128)   (3, 3, 512, 256)\nG_synthesis/128x128/Conv1       721409    (?, 256, 128, 128)   (3, 3, 256, 256)\nG_synthesis/128x128/Upsample    -         (?, 3, 128, 128)     -               \nG_synthesis/128x128/ToRGB       132099    (?, 3, 128, 128)     (1, 1, 256, 3)  \nG_synthesis/256x256/Conv0_up    426369    (?, 128, 256, 256)   (3, 3, 256, 128)\nG_synthesis/256x256/Conv1       213249    (?, 128, 256, 256)   (3, 3, 128, 128)\nG_synthesis/256x256/Upsample    -         (?, 3, 256, 256)     -               \nG_synthesis/256x256/ToRGB       66051     (?, 3, 256, 256)     (1, 1, 128, 3)  \nG_synthesis/512x512/Conv0_up    139457    (?, 64, 512, 512)    (3, 3, 128, 64) \nG_synthesis/512x512/Conv1       69761     (?, 64, 512, 512)    (3, 3, 64, 64)  \nG_synthesis/512x512/Upsample    -         (?, 3, 512, 512)     -               \nG_synthesis/512x512/ToRGB       33027     (?, 3, 512, 512)     (1, 1, 64, 3)   \nG_synthesis/1024x1024/Conv0_up  51297     (?, 32, 1024, 1024)  (3, 3, 64, 32)  \nG_synthesis/1024x1024/Conv1     25665     (?, 32, 1024, 1024)  (3, 3, 32, 32)  \nG_synthesis/1024x1024/Upsample  -         (?, 3, 1024, 1024)   -               \nG_synthesis/1024x1024/ToRGB     16515     (?, 3, 1024, 1024)   (1, 1, 32, 3)   \nG_synthesis/images_out          -         (?, 3, 1024, 1024)   -               \nG_synthesis/noise0              -         (1, 1, 4, 4)         -               \nG_synthesis/noise1              -         (1, 1, 8, 8)         -               \nG_synthesis/noise2              -         (1, 1, 8, 8)         -               \nG_synthesis/noise3              -         (1, 1, 16, 16)       -               \nG_synthesis/noise4              -         (1, 1, 16, 16)       -               \nG_synthesis/noise5              -         (1, 1, 32, 32)       -               \nG_synthesis/noise6              -         (1, 1, 32, 32)       -               \nG_synthesis/noise7              -         (1, 1, 64, 64)       -               \nG_synthesis/noise8              -         (1, 1, 64, 64)       -               \nG_synthesis/noise9              -         (1, 1, 128, 128)     -               \nG_synthesis/noise10             -         (1, 1, 128, 128)     -               \nG_synthesis/noise11             -         (1, 1, 256, 256)     -               \nG_synthesis/noise12             -         (1, 1, 256, 256)     -               \nG_synthesis/noise13             -         (1, 1, 512, 512)     -               \nG_synthesis/noise14             -         (1, 1, 512, 512)     -               \nG_synthesis/noise15             -         (1, 1, 1024, 1024)   -               \nG_synthesis/noise16             -         (1, 1, 1024, 1024)   -               \nimages_out                      -         (?, 3, 1024, 1024)   -               \n---                             ---       ---                  ---             \nTotal                           30370060                                       \n\n===Gs===\n\nGs                              Params    OutputShape          WeightShape     \n---                             ---       ---                  ---             \nlatents_in                      -         (?, 512)             -               \nlabels_in                       -         (?, 0)               -               \nlod                             -         ()                   -               \ndlatent_avg                     -         (512,)               -               \nG_mapping/latents_in            -         (?, 512)             -               \nG_mapping/labels_in             -         (?, 0)               -               \nG_mapping/Normalize             -         (?, 512)             -               \nG_mapping/Dense0                262656    (?, 512)             (512, 512)      \nG_mapping/Dense1                262656    (?, 512)             (512, 512)      \nG_mapping/Dense2                262656    (?, 512)             (512, 512)      \nG_mapping/Dense3                262656    (?, 512)             (512, 512)      \nG_mapping/Dense4                262656    (?, 512)             (512, 512)      \nG_mapping/Dense5                262656    (?, 512)             (512, 512)      \nG_mapping/Dense6                262656    (?, 512)             (512, 512)      \nG_mapping/Dense7                262656    (?, 512)             (512, 512)      \nG_mapping/Broadcast             -         (?, 18, 512)         -               \nG_mapping/dlatents_out          -         (?, 18, 512)         -               \nTruncation/Lerp                 -         (?, 18, 512)         -               \nG_synthesis/dlatents_in         -         (?, 18, 512)         -               \nG_synthesis/4x4/Const           8192      (?, 512, 4, 4)       (1, 512, 4, 4)  \nG_synthesis/4x4/Conv            2622465   (?, 512, 4, 4)       (3, 3, 512, 512)\nG_synthesis/4x4/ToRGB           264195    (?, 3, 4, 4)         (1, 1, 512, 3)  \nG_synthesis/8x8/Conv0_up        2622465   (?, 512, 8, 8)       (3, 3, 512, 512)\nG_synthesis/8x8/Conv1           2622465   (?, 512, 8, 8)       (3, 3, 512, 512)\nG_synthesis/8x8/Upsample        -         (?, 3, 8, 8)         -               \nG_synthesis/8x8/ToRGB           264195    (?, 3, 8, 8)         (1, 1, 512, 3)  \nG_synthesis/16x16/Conv0_up      2622465   (?, 512, 16, 16)     (3, 3, 512, 512)\nG_synthesis/16x16/Conv1         2622465   (?, 512, 16, 16)     (3, 3, 512, 512)\nG_synthesis/16x16/Upsample      -         (?, 3, 16, 16)       -               \nG_synthesis/16x16/ToRGB         264195    (?, 3, 16, 16)       (1, 1, 512, 3)  \nG_synthesis/32x32/Conv0_up      2622465   (?, 512, 32, 32)     (3, 3, 512, 512)\nG_synthesis/32x32/Conv1         2622465   (?, 512, 32, 32)     (3, 3, 512, 512)\nG_synthesis/32x32/Upsample      -         (?, 3, 32, 32)       -               \nG_synthesis/32x32/ToRGB         264195    (?, 3, 32, 32)       (1, 1, 512, 3)  \nG_synthesis/64x64/Conv0_up      2622465   (?, 512, 64, 64)     (3, 3, 512, 512)\nG_synthesis/64x64/Conv1         2622465   (?, 512, 64, 64)     (3, 3, 512, 512)\nG_synthesis/64x64/Upsample      -         (?, 3, 64, 64)       -               \nG_synthesis/64x64/ToRGB         264195    (?, 3, 64, 64)       (1, 1, 512, 3)  \nG_synthesis/128x128/Conv0_up    1442561   (?, 256, 128, 128)   (3, 3, 512, 256)\nG_synthesis/128x128/Conv1       721409    (?, 256, 128, 128)   (3, 3, 256, 256)\nG_synthesis/128x128/Upsample    -         (?, 3, 128, 128)     -               \nG_synthesis/128x128/ToRGB       132099    (?, 3, 128, 128)     (1, 1, 256, 3)  \nG_synthesis/256x256/Conv0_up    426369    (?, 128, 256, 256)   (3, 3, 256, 128)\nG_synthesis/256x256/Conv1       213249    (?, 128, 256, 256)   (3, 3, 128, 128)\nG_synthesis/256x256/Upsample    -         (?, 3, 256, 256)     -               \nG_synthesis/256x256/ToRGB       66051     (?, 3, 256, 256)     (1, 1, 128, 3)  \nG_synthesis/512x512/Conv0_up    139457    (?, 64, 512, 512)    (3, 3, 128, 64) \nG_synthesis/512x512/Conv1       69761     (?, 64, 512, 512)    (3, 3, 64, 64)  \nG_synthesis/512x512/Upsample    -         (?, 3, 512, 512)     -               \nG_synthesis/512x512/ToRGB       33027     (?, 3, 512, 512)     (1, 1, 64, 3)   \nG_synthesis/1024x1024/Conv0_up  51297     (?, 32, 1024, 1024)  (3, 3, 64, 32)  \nG_synthesis/1024x1024/Conv1     25665     (?, 32, 1024, 1024)  (3, 3, 32, 32)  \nG_synthesis/1024x1024/Upsample  -         (?, 3, 1024, 1024)   -               \nG_synthesis/1024x1024/ToRGB     16515     (?, 3, 1024, 1024)   (1, 1, 32, 3)   \nG_synthesis/images_out          -         (?, 3, 1024, 1024)   -               \nG_synthesis/noise0              -         (1, 1, 4, 4)         -               \nG_synthesis/noise1              -         (1, 1, 8, 8)         -               \nG_synthesis/noise2              -         (1, 1, 8, 8)         -               \nG_synthesis/noise3              -         (1, 1, 16, 16)       -               \nG_synthesis/noise4              -         (1, 1, 16, 16)       -               \nG_synthesis/noise5              -         (1, 1, 32, 32)       -               \nG_synthesis/noise6              -         (1, 1, 32, 32)       -               \nG_synthesis/noise7              -         (1, 1, 64, 64)       -               \nG_synthesis/noise8              -         (1, 1, 64, 64)       -               \nG_synthesis/noise9              -         (1, 1, 128, 128)     -               \nG_synthesis/noise10             -         (1, 1, 128, 128)     -               \nG_synthesis/noise11             -         (1, 1, 256, 256)     -               \nG_synthesis/noise12             -         (1, 1, 256, 256)     -               \nG_synthesis/noise13             -         (1, 1, 512, 512)     -               \nG_synthesis/noise14             -         (1, 1, 512, 512)     -               \nG_synthesis/noise15             -         (1, 1, 1024, 1024)   -               \nG_synthesis/noise16             -         (1, 1, 1024, 1024)   -               \nimages_out                      -         (?, 3, 1024, 1024)   -               \n---                             ---       ---                  ---             \nTotal                           30370060                                       \n\n"
    }
   ],
   "source": [
    "# Print network details.\n",
    "print('===_G===')\n",
    "_G.print_layers()\n",
    "print('===Gs===')\n",
    "Gs.print_layers()"
   ]
  },
  {
   "cell_type": "code",
   "execution_count": 5,
   "metadata": {},
   "outputs": [],
   "source": [
    "t_var = tf.trainable_variables()"
   ]
  },
  {
   "cell_type": "code",
   "execution_count": 7,
   "metadata": {},
   "outputs": [
    {
     "output_type": "execute_result",
     "data": {
      "text/plain": "'../stylegan2-tf-2.x/official-pretrained/model.ckpt'"
     },
     "metadata": {},
     "execution_count": 7
    }
   ],
   "source": [
    "saver = tf.train.Saver()\n",
    "\n",
    "save_path = saver.save(tf.get_default_session(), \"../stylegan2-tf-2.x/official-pretrained/model.ckpt\")\n",
    "save_path"
   ]
  },
  {
   "cell_type": "code",
   "execution_count": null,
   "metadata": {},
   "outputs": [],
   "source": []
  }
 ]
}